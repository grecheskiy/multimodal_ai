{
 "cells": [
  {
   "cell_type": "code",
   "execution_count": 1,
   "metadata": {
    "ExecuteTime": {
     "end_time": "2025-02-15T13:56:52.628740Z",
     "start_time": "2025-02-15T13:56:52.612371Z"
    }
   },
   "outputs": [],
   "source": [
    "import os\n",
    "import zipfile\n",
    "import requests"
   ]
  },
  {
   "cell_type": "code",
   "execution_count": 2,
   "metadata": {},
   "outputs": [
    {
     "name": "stdout",
     "output_type": "stream",
     "text": [
      "Аннотации уже загружены.\n",
      "Изображения уже загружены.\n"
     ]
    }
   ],
   "source": [
    "# Создание директорий для данных\n",
    "os.makedirs(\"coco/images\", exist_ok=True)\n",
    "os.makedirs(\"coco/annotations\", exist_ok=True)\n",
    "\n",
    "# Скачивание аннотаций\n",
    "annotations_url = \"http://images.cocodataset.org/annotations/annotations_trainval2017.zip\"\n",
    "annotations_zip_path = \"coco/annotations.zip\"\n",
    "\n",
    "# Скачивание файла\n",
    "if not os.path.exists(annotations_zip_path):\n",
    "    print(\"Скачивание аннотаций...\")\n",
    "    response = requests.get(annotations_url)\n",
    "    with open(annotations_zip_path, \"wb\") as f:\n",
    "        f.write(response.content)\n",
    "\n",
    "    # Распаковка аннотаций\n",
    "    with zipfile.ZipFile(annotations_zip_path, 'r') as zip_ref:\n",
    "        zip_ref.extractall(\"coco/annotations\")\n",
    "    print(\"Аннотации загружены и распакованы.\")\n",
    "else:\n",
    "    print(\"Аннотации уже загружены.\")\n",
    "\n",
    "# Скачивание изображений (только для примера, train2017)\n",
    "images_url = \"http://images.cocodataset.org/zips/train2017.zip\"\n",
    "images_zip_path = \"coco/train2017.zip\"\n",
    "\n",
    "if not os.path.exists(images_zip_path):\n",
    "    print(\"Скачивание изображений...\")\n",
    "    response = requests.get(images_url)\n",
    "    with open(images_zip_path, \"wb\") as f:\n",
    "        f.write(response.content)\n",
    "\n",
    "    # Распаковка изображений\n",
    "    with zipfile.ZipFile(images_zip_path, 'r') as zip_ref:\n",
    "        zip_ref.extractall(\"coco/images\")\n",
    "    print(\"Изображения загружены и распакованы.\")\n",
    "else:\n",
    "    print(\"Изображения уже загружены.\")\n",
    "    "
   ]
  },
  {
   "cell_type": "code",
   "execution_count": 3,
   "metadata": {},
   "outputs": [
    {
     "name": "stdout",
     "output_type": "stream",
     "text": [
      "Валидационные изображения уже загружены.\n"
     ]
    }
   ],
   "source": [
    "# Скачивание валидационных изображений\n",
    "val_images_url = \"http://images.cocodataset.org/zips/val2017.zip\"\n",
    "val_images_zip_path = \"coco/val2017.zip\"\n",
    "\n",
    "if not os.path.exists(val_images_zip_path):\n",
    "    print(\"Скачивание валидационных изображений...\")\n",
    "    response = requests.get(val_images_url)\n",
    "    with open(val_images_zip_path, \"wb\") as f:\n",
    "        f.write(response.content)\n",
    "\n",
    "    # Распаковка валидационных изображений\n",
    "    with zipfile.ZipFile(val_images_zip_path, 'r') as zip_ref:\n",
    "        zip_ref.extractall(\"coco/images\")\n",
    "    print(\"Валидационные изображения загружены и распакованы.\")\n",
    "else:\n",
    "    print(\"Валидационные изображения уже загружены.\")"
   ]
  }
 ],
 "metadata": {
  "kernelspec": {
   "display_name": ".venv",
   "language": "python",
   "name": "python3"
  },
  "language_info": {
   "codemirror_mode": {
    "name": "ipython",
    "version": 3
   },
   "file_extension": ".py",
   "mimetype": "text/x-python",
   "name": "python",
   "nbconvert_exporter": "python",
   "pygments_lexer": "ipython3",
   "version": "3.12.4"
  }
 },
 "nbformat": 4,
 "nbformat_minor": 2
}
